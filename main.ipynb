{
 "cells": [
  {
   "cell_type": "markdown",
   "id": "fe7484e6",
   "metadata": {},
   "source": [
    "# Chronic Kidney Disease Prediction"
   ]
  },
  {
   "cell_type": "code",
   "execution_count": 3,
   "id": "369b923a",
   "metadata": {},
   "outputs": [],
   "source": [
    "import numpy as np\n",
    "import pandas as pd\n",
    "from scipy.io import arff"
   ]
  },
  {
   "cell_type": "code",
   "execution_count": 16,
   "id": "44219908-06b4-43df-8ec4-8e0a5eafa0ee",
   "metadata": {},
   "outputs": [],
   "source": [
    "import pandas as pd\n",
    "\n",
    "data = []\n",
    "with open('./data/chronic_kidney_disease_full.arff', \"r\") as f:\n",
    "    for line in f:\n",
    "        line = line.replace('\\t', '')\n",
    "        data.append(line.split(','))\n",
    "\n",
    "\n",
    "names = ['age', 'bp', 'sg', 'al', 'su', 'rbc', 'pc', 'pcc', 'ba',\n",
    "         'bgr', 'bu',  'sc', 'sod', 'pot', 'hemo', 'pcv', 'wbcc',\n",
    "         'rbcc', 'htn', 'dm', 'cad', 'appet', 'pe', 'ane',\n",
    "         'class', 'no_name']\n",
    "    \n",
    "df = pd.DataFrame(data[145:], columns=names)"
   ]
  },
  {
   "cell_type": "code",
   "execution_count": 17,
   "id": "8efc9fdf-62a1-46c6-9f30-d8b881255af0",
   "metadata": {},
   "outputs": [
    {
     "name": "stdout",
     "output_type": "stream",
     "text": [
      "<class 'pandas.core.frame.DataFrame'>\n",
      "RangeIndex: 402 entries, 0 to 401\n",
      "Data columns (total 26 columns):\n",
      " #   Column   Non-Null Count  Dtype \n",
      "---  ------   --------------  ----- \n",
      " 0   age      402 non-null    object\n",
      " 1   bp       400 non-null    object\n",
      " 2   sg       400 non-null    object\n",
      " 3   al       400 non-null    object\n",
      " 4   su       400 non-null    object\n",
      " 5   rbc      400 non-null    object\n",
      " 6   pc       400 non-null    object\n",
      " 7   pcc      400 non-null    object\n",
      " 8   ba       400 non-null    object\n",
      " 9   bgr      400 non-null    object\n",
      " 10  bu       400 non-null    object\n",
      " 11  sc       400 non-null    object\n",
      " 12  sod      400 non-null    object\n",
      " 13  pot      400 non-null    object\n",
      " 14  hemo     400 non-null    object\n",
      " 15  pcv      400 non-null    object\n",
      " 16  wbcc     400 non-null    object\n",
      " 17  rbcc     400 non-null    object\n",
      " 18  htn      400 non-null    object\n",
      " 19  dm       400 non-null    object\n",
      " 20  cad      400 non-null    object\n",
      " 21  appet    400 non-null    object\n",
      " 22  pe       400 non-null    object\n",
      " 23  ane      400 non-null    object\n",
      " 24  class    400 non-null    object\n",
      " 25  no_name  3 non-null      object\n",
      "dtypes: object(26)\n",
      "memory usage: 81.8+ KB\n"
     ]
    }
   ],
   "source": [
    "df.info()"
   ]
  },
  {
   "cell_type": "code",
   "execution_count": null,
   "id": "fe7742cd-ed69-4c33-925e-ce87892669a8",
   "metadata": {},
   "outputs": [],
   "source": []
  }
 ],
 "metadata": {
  "kernelspec": {
   "display_name": "Python 3 (ipykernel)",
   "language": "python",
   "name": "python3"
  },
  "language_info": {
   "codemirror_mode": {
    "name": "ipython",
    "version": 3
   },
   "file_extension": ".py",
   "mimetype": "text/x-python",
   "name": "python",
   "nbconvert_exporter": "python",
   "pygments_lexer": "ipython3",
   "version": "3.10.6"
  }
 },
 "nbformat": 4,
 "nbformat_minor": 5
}
