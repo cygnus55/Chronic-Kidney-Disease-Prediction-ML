{
 "cells": [
  {
   "cell_type": "markdown",
   "id": "7fe2f528-22bb-4be5-aae2-23ec8773a2e3",
   "metadata": {},
   "source": [
    "## Import necessary python libraries"
   ]
  },
  {
   "cell_type": "code",
   "execution_count": 1,
   "id": "d2c57564-f385-4b22-8519-6b17a56fc017",
   "metadata": {},
   "outputs": [],
   "source": [
    "import pandas as pd\n",
    "import numpy as np\n",
    "\n",
    "from scipy.io import arff "
   ]
  },
  {
   "cell_type": "markdown",
   "id": "d35c9a12-f0ef-4286-8630-fd31c32d8d5a",
   "metadata": {},
   "source": [
    "Relevant Information:\n",
    "- age\t\t-\tage\t\n",
    "- bp\t\t-\tblood pressure\n",
    "- sg\t\t-\tspecific gravity\n",
    "- al\t\t-   \talbumin\n",
    "- su\t\t-\tsugar\n",
    "- rbc\t\t-\tred blood cells\n",
    "- pc\t\t-\tpus cell\n",
    "- pcc\t\t-\tpus cell clumps\n",
    "- ba\t\t-\tbacteria\n",
    "- bgr\t\t-\tblood glucose random\n",
    "- bu\t\t-\tblood urea\n",
    "- sc\t\t-\tserum creatinine\n",
    "- sod\t\t-\tsodium\n",
    "- pot\t\t-\tpotassium\n",
    "- hemo\t\t-\themoglobin\n",
    "- pcv\t\t-\tpacked cell volume\n",
    "- wc\t\t-\twhite blood cell count\n",
    "- rc\t\t-\tred blood cell count\n",
    "- htn\t\t-\thypertension\n",
    "- dm\t\t-\tdiabetes mellitus\n",
    "- cad\t\t-\tcoronary artery disease\n",
    "- appet\t\t-\tappetite\n",
    "- pe\t\t-\tpedal edema\n",
    "- ane\t\t-\tanemia\n",
    "- class\t\t-\tclass"
   ]
  },
  {
   "cell_type": "markdown",
   "id": "812744e5-279f-4eda-8e8a-83eebcbb7da9",
   "metadata": {},
   "source": [
    "Attribute Informations\n",
    "\n",
    "- 'age' numeric\n",
    "- 'bp'  numeric\n",
    "- 'sg' {1.005,1.010,1.015,1.020,1.025}\n",
    "- 'al' {0,1,2,3,4,5}  \n",
    "- 'su' {0,1,2,3,4,5}  \n",
    "- 'rbc' {normal,abnormal}\n",
    "- 'pc' {normal,abnormal} \n",
    "- 'pcc' {present,notpresent}\n",
    "- 'ba' {present,notpresent}\n",
    "- 'bgr'  numeric\n",
    "- 'bu' numeric\n",
    "- 'sc' numeric\n",
    "- 'sod' numeric\n",
    "- 'pot' numeric\n",
    "- 'hemo' numeric\n",
    "- 'pcv' numeric\n",
    "- 'wbcc' numeric\n",
    "- 'rbcc' numeric\n",
    "- 'htn' {yes,no}\n",
    "- 'dm' {yes,no}\n",
    "- 'cad' {yes,no}\n",
    "- 'appet' {good,poor}\n",
    "- 'pe' {yes,no} \n",
    "- 'ane' {yes,no}\n",
    "- 'class' {ckd,notckd}"
   ]
  },
  {
   "cell_type": "markdown",
   "id": "53c016f0-9494-4c85-983e-03167afd0dc2",
   "metadata": {},
   "source": [
    "## Load Data from arff file"
   ]
  },
  {
   "cell_type": "code",
   "execution_count": 2,
   "id": "fa36137a-50a1-45cb-9215-e656f2243863",
   "metadata": {},
   "outputs": [],
   "source": [
    "# Load data from given arff file path\n",
    "data, meta = arff.loadarff('./data/chronic_kidney_disease.arff')"
   ]
  },
  {
   "cell_type": "code",
   "execution_count": 3,
   "id": "9c23d2da-bcab-4107-abee-550193694070",
   "metadata": {},
   "outputs": [],
   "source": [
    "# Convert data to pandas DataFrame\n",
    "df = pd.DataFrame.from_records(data)"
   ]
  },
  {
   "cell_type": "markdown",
   "id": "3a9f2bd4-d2a5-4db6-9794-96db5fb19b76",
   "metadata": {},
   "source": [
    "## Data Information"
   ]
  },
  {
   "cell_type": "code",
   "execution_count": 4,
   "id": "3490f58b-f69e-4cf7-b135-c8b080cc221b",
   "metadata": {},
   "outputs": [
    {
     "name": "stdout",
     "output_type": "stream",
     "text": [
      "<class 'pandas.core.frame.DataFrame'>\n",
      "RangeIndex: 400 entries, 0 to 399\n",
      "Data columns (total 25 columns):\n",
      " #   Column  Non-Null Count  Dtype  \n",
      "---  ------  --------------  -----  \n",
      " 0   age     391 non-null    float64\n",
      " 1   bp      388 non-null    float64\n",
      " 2   sg      400 non-null    object \n",
      " 3   al      400 non-null    object \n",
      " 4   su      400 non-null    object \n",
      " 5   rbc     400 non-null    object \n",
      " 6   pc      400 non-null    object \n",
      " 7   pcc     400 non-null    object \n",
      " 8   ba      400 non-null    object \n",
      " 9   bgr     356 non-null    float64\n",
      " 10  bu      381 non-null    float64\n",
      " 11  sc      383 non-null    float64\n",
      " 12  sod     313 non-null    float64\n",
      " 13  pot     312 non-null    float64\n",
      " 14  hemo    348 non-null    float64\n",
      " 15  pcv     329 non-null    float64\n",
      " 16  wbcc    294 non-null    float64\n",
      " 17  rbcc    269 non-null    float64\n",
      " 18  htn     400 non-null    object \n",
      " 19  dm      400 non-null    object \n",
      " 20  cad     400 non-null    object \n",
      " 21  appet   400 non-null    object \n",
      " 22  pe      400 non-null    object \n",
      " 23  ane     400 non-null    object \n",
      " 24  class   400 non-null    object \n",
      "dtypes: float64(11), object(14)\n",
      "memory usage: 78.2+ KB\n"
     ]
    }
   ],
   "source": [
    "df.info()"
   ]
  },
  {
   "cell_type": "code",
   "execution_count": 5,
   "id": "6ea756af-46da-4d83-9f82-b69c86ac6fb4",
   "metadata": {},
   "outputs": [
    {
     "data": {
      "text/html": [
       "<div>\n",
       "<style scoped>\n",
       "    .dataframe tbody tr th:only-of-type {\n",
       "        vertical-align: middle;\n",
       "    }\n",
       "\n",
       "    .dataframe tbody tr th {\n",
       "        vertical-align: top;\n",
       "    }\n",
       "\n",
       "    .dataframe thead th {\n",
       "        text-align: right;\n",
       "    }\n",
       "</style>\n",
       "<table border=\"1\" class=\"dataframe\">\n",
       "  <thead>\n",
       "    <tr style=\"text-align: right;\">\n",
       "      <th></th>\n",
       "      <th>age</th>\n",
       "      <th>bp</th>\n",
       "      <th>sg</th>\n",
       "      <th>al</th>\n",
       "      <th>su</th>\n",
       "      <th>rbc</th>\n",
       "      <th>pc</th>\n",
       "      <th>pcc</th>\n",
       "      <th>ba</th>\n",
       "      <th>bgr</th>\n",
       "      <th>...</th>\n",
       "      <th>pcv</th>\n",
       "      <th>wbcc</th>\n",
       "      <th>rbcc</th>\n",
       "      <th>htn</th>\n",
       "      <th>dm</th>\n",
       "      <th>cad</th>\n",
       "      <th>appet</th>\n",
       "      <th>pe</th>\n",
       "      <th>ane</th>\n",
       "      <th>class</th>\n",
       "    </tr>\n",
       "  </thead>\n",
       "  <tbody>\n",
       "    <tr>\n",
       "      <th>0</th>\n",
       "      <td>48.0</td>\n",
       "      <td>80.0</td>\n",
       "      <td>b'1.020'</td>\n",
       "      <td>b'1'</td>\n",
       "      <td>b'0'</td>\n",
       "      <td>b'?'</td>\n",
       "      <td>b'normal'</td>\n",
       "      <td>b'notpresent'</td>\n",
       "      <td>b'notpresent'</td>\n",
       "      <td>121.0</td>\n",
       "      <td>...</td>\n",
       "      <td>44.0</td>\n",
       "      <td>7800.0</td>\n",
       "      <td>5.2</td>\n",
       "      <td>b'yes'</td>\n",
       "      <td>b'yes'</td>\n",
       "      <td>b'no'</td>\n",
       "      <td>b'good'</td>\n",
       "      <td>b'no'</td>\n",
       "      <td>b'no'</td>\n",
       "      <td>b'ckd'</td>\n",
       "    </tr>\n",
       "    <tr>\n",
       "      <th>1</th>\n",
       "      <td>7.0</td>\n",
       "      <td>50.0</td>\n",
       "      <td>b'1.020'</td>\n",
       "      <td>b'4'</td>\n",
       "      <td>b'0'</td>\n",
       "      <td>b'?'</td>\n",
       "      <td>b'normal'</td>\n",
       "      <td>b'notpresent'</td>\n",
       "      <td>b'notpresent'</td>\n",
       "      <td>NaN</td>\n",
       "      <td>...</td>\n",
       "      <td>38.0</td>\n",
       "      <td>6000.0</td>\n",
       "      <td>NaN</td>\n",
       "      <td>b'no'</td>\n",
       "      <td>b'no'</td>\n",
       "      <td>b'no'</td>\n",
       "      <td>b'good'</td>\n",
       "      <td>b'no'</td>\n",
       "      <td>b'no'</td>\n",
       "      <td>b'ckd'</td>\n",
       "    </tr>\n",
       "    <tr>\n",
       "      <th>2</th>\n",
       "      <td>62.0</td>\n",
       "      <td>80.0</td>\n",
       "      <td>b'1.010'</td>\n",
       "      <td>b'2'</td>\n",
       "      <td>b'3'</td>\n",
       "      <td>b'normal'</td>\n",
       "      <td>b'normal'</td>\n",
       "      <td>b'notpresent'</td>\n",
       "      <td>b'notpresent'</td>\n",
       "      <td>423.0</td>\n",
       "      <td>...</td>\n",
       "      <td>31.0</td>\n",
       "      <td>7500.0</td>\n",
       "      <td>NaN</td>\n",
       "      <td>b'no'</td>\n",
       "      <td>b'yes'</td>\n",
       "      <td>b'no'</td>\n",
       "      <td>b'poor'</td>\n",
       "      <td>b'no'</td>\n",
       "      <td>b'yes'</td>\n",
       "      <td>b'ckd'</td>\n",
       "    </tr>\n",
       "    <tr>\n",
       "      <th>3</th>\n",
       "      <td>48.0</td>\n",
       "      <td>70.0</td>\n",
       "      <td>b'1.005'</td>\n",
       "      <td>b'4'</td>\n",
       "      <td>b'0'</td>\n",
       "      <td>b'normal'</td>\n",
       "      <td>b'abnormal'</td>\n",
       "      <td>b'present'</td>\n",
       "      <td>b'notpresent'</td>\n",
       "      <td>117.0</td>\n",
       "      <td>...</td>\n",
       "      <td>32.0</td>\n",
       "      <td>6700.0</td>\n",
       "      <td>3.9</td>\n",
       "      <td>b'yes'</td>\n",
       "      <td>b'no'</td>\n",
       "      <td>b'no'</td>\n",
       "      <td>b'poor'</td>\n",
       "      <td>b'yes'</td>\n",
       "      <td>b'yes'</td>\n",
       "      <td>b'ckd'</td>\n",
       "    </tr>\n",
       "    <tr>\n",
       "      <th>4</th>\n",
       "      <td>51.0</td>\n",
       "      <td>80.0</td>\n",
       "      <td>b'1.010'</td>\n",
       "      <td>b'2'</td>\n",
       "      <td>b'0'</td>\n",
       "      <td>b'normal'</td>\n",
       "      <td>b'normal'</td>\n",
       "      <td>b'notpresent'</td>\n",
       "      <td>b'notpresent'</td>\n",
       "      <td>106.0</td>\n",
       "      <td>...</td>\n",
       "      <td>35.0</td>\n",
       "      <td>7300.0</td>\n",
       "      <td>4.6</td>\n",
       "      <td>b'no'</td>\n",
       "      <td>b'no'</td>\n",
       "      <td>b'no'</td>\n",
       "      <td>b'good'</td>\n",
       "      <td>b'no'</td>\n",
       "      <td>b'no'</td>\n",
       "      <td>b'ckd'</td>\n",
       "    </tr>\n",
       "  </tbody>\n",
       "</table>\n",
       "<p>5 rows × 25 columns</p>\n",
       "</div>"
      ],
      "text/plain": [
       "    age    bp        sg    al    su        rbc           pc            pcc  \\\n",
       "0  48.0  80.0  b'1.020'  b'1'  b'0'       b'?'    b'normal'  b'notpresent'   \n",
       "1   7.0  50.0  b'1.020'  b'4'  b'0'       b'?'    b'normal'  b'notpresent'   \n",
       "2  62.0  80.0  b'1.010'  b'2'  b'3'  b'normal'    b'normal'  b'notpresent'   \n",
       "3  48.0  70.0  b'1.005'  b'4'  b'0'  b'normal'  b'abnormal'     b'present'   \n",
       "4  51.0  80.0  b'1.010'  b'2'  b'0'  b'normal'    b'normal'  b'notpresent'   \n",
       "\n",
       "              ba    bgr  ...   pcv    wbcc  rbcc     htn      dm    cad  \\\n",
       "0  b'notpresent'  121.0  ...  44.0  7800.0   5.2  b'yes'  b'yes'  b'no'   \n",
       "1  b'notpresent'    NaN  ...  38.0  6000.0   NaN   b'no'   b'no'  b'no'   \n",
       "2  b'notpresent'  423.0  ...  31.0  7500.0   NaN   b'no'  b'yes'  b'no'   \n",
       "3  b'notpresent'  117.0  ...  32.0  6700.0   3.9  b'yes'   b'no'  b'no'   \n",
       "4  b'notpresent'  106.0  ...  35.0  7300.0   4.6   b'no'   b'no'  b'no'   \n",
       "\n",
       "     appet      pe     ane   class  \n",
       "0  b'good'   b'no'   b'no'  b'ckd'  \n",
       "1  b'good'   b'no'   b'no'  b'ckd'  \n",
       "2  b'poor'   b'no'  b'yes'  b'ckd'  \n",
       "3  b'poor'  b'yes'  b'yes'  b'ckd'  \n",
       "4  b'good'   b'no'   b'no'  b'ckd'  \n",
       "\n",
       "[5 rows x 25 columns]"
      ]
     },
     "execution_count": 5,
     "metadata": {},
     "output_type": "execute_result"
    }
   ],
   "source": [
    "df.head()"
   ]
  },
  {
   "cell_type": "code",
   "execution_count": 6,
   "id": "d482d516-372c-427e-aeaf-a1361d5352ff",
   "metadata": {},
   "outputs": [
    {
     "data": {
      "text/plain": [
       "(400, 25)"
      ]
     },
     "execution_count": 6,
     "metadata": {},
     "output_type": "execute_result"
    }
   ],
   "source": [
    "df.shape"
   ]
  },
  {
   "cell_type": "code",
   "execution_count": 7,
   "id": "2f2de324-26e3-4df9-a8f9-0f1fbf132eb8",
   "metadata": {},
   "outputs": [
    {
     "data": {
      "text/plain": [
       "b'ckd'       250\n",
       "b'notckd'    150\n",
       "Name: class, dtype: int64"
      ]
     },
     "execution_count": 7,
     "metadata": {},
     "output_type": "execute_result"
    }
   ],
   "source": [
    "df[\"class\"].value_counts()"
   ]
  },
  {
   "cell_type": "markdown",
   "id": "20566a01-0ad8-4e0c-ac79-0dbcc332714b",
   "metadata": {},
   "source": [
    "## Data Cleaning"
   ]
  },
  {
   "cell_type": "code",
   "execution_count": 8,
   "id": "1768c5e3-dcb4-40b7-9fef-bda5baa77e6c",
   "metadata": {},
   "outputs": [],
   "source": [
    "df.dropna(inplace=True)"
   ]
  },
  {
   "cell_type": "code",
   "execution_count": 9,
   "id": "0bd2dada-71b7-44d4-9289-d169e6444c17",
   "metadata": {},
   "outputs": [
    {
     "name": "stdout",
     "output_type": "stream",
     "text": [
      "<class 'pandas.core.frame.DataFrame'>\n",
      "Int64Index: 215 entries, 3 to 399\n",
      "Data columns (total 25 columns):\n",
      " #   Column  Non-Null Count  Dtype  \n",
      "---  ------  --------------  -----  \n",
      " 0   age     215 non-null    float64\n",
      " 1   bp      215 non-null    float64\n",
      " 2   sg      215 non-null    object \n",
      " 3   al      215 non-null    object \n",
      " 4   su      215 non-null    object \n",
      " 5   rbc     215 non-null    object \n",
      " 6   pc      215 non-null    object \n",
      " 7   pcc     215 non-null    object \n",
      " 8   ba      215 non-null    object \n",
      " 9   bgr     215 non-null    float64\n",
      " 10  bu      215 non-null    float64\n",
      " 11  sc      215 non-null    float64\n",
      " 12  sod     215 non-null    float64\n",
      " 13  pot     215 non-null    float64\n",
      " 14  hemo    215 non-null    float64\n",
      " 15  pcv     215 non-null    float64\n",
      " 16  wbcc    215 non-null    float64\n",
      " 17  rbcc    215 non-null    float64\n",
      " 18  htn     215 non-null    object \n",
      " 19  dm      215 non-null    object \n",
      " 20  cad     215 non-null    object \n",
      " 21  appet   215 non-null    object \n",
      " 22  pe      215 non-null    object \n",
      " 23  ane     215 non-null    object \n",
      " 24  class   215 non-null    object \n",
      "dtypes: float64(11), object(14)\n",
      "memory usage: 43.7+ KB\n"
     ]
    }
   ],
   "source": [
    "df.info()"
   ]
  },
  {
   "cell_type": "code",
   "execution_count": 10,
   "id": "44a83597-83a2-4ade-9e13-a2a82459bc7e",
   "metadata": {},
   "outputs": [
    {
     "data": {
      "text/plain": [
       "b'notckd'    128\n",
       "b'ckd'        87\n",
       "Name: class, dtype: int64"
      ]
     },
     "execution_count": 10,
     "metadata": {},
     "output_type": "execute_result"
    }
   ],
   "source": [
    "df[\"class\"].value_counts()"
   ]
  },
  {
   "cell_type": "markdown",
   "id": "76dc87eb-1b72-45d3-bbfd-4456491ef589",
   "metadata": {},
   "source": [
    "## Export to CSV file"
   ]
  },
  {
   "cell_type": "code",
   "execution_count": 11,
   "id": "d7c190e8-02dd-442e-b12e-e68c5b0ce57c",
   "metadata": {},
   "outputs": [],
   "source": [
    "df.to_csv(\"./data/chronic_kidney_disease.csv\")"
   ]
  }
 ],
 "metadata": {
  "kernelspec": {
   "display_name": "Python 3 (ipykernel)",
   "language": "python",
   "name": "python3"
  },
  "language_info": {
   "codemirror_mode": {
    "name": "ipython",
    "version": 3
   },
   "file_extension": ".py",
   "mimetype": "text/x-python",
   "name": "python",
   "nbconvert_exporter": "python",
   "pygments_lexer": "ipython3",
   "version": "3.10.6"
  }
 },
 "nbformat": 4,
 "nbformat_minor": 5
}
